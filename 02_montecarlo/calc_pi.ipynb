{
 "cells": [
  {
   "cell_type": "code",
   "execution_count": 1,
   "source": [
    "from tqdm import tqdm\r\n",
    "import numpy as np\r\n",
    "import seaborn as sns\r\n",
    "import matplotlib.pyplot as plt"
   ],
   "outputs": [],
   "metadata": {}
  },
  {
   "cell_type": "code",
   "execution_count": 3,
   "source": [
    "def calc_pi(n=1000):\r\n",
    "    N_in = 0\r\n",
    "    N_out = 0\r\n",
    "    x_array = np.random.rand(n)\r\n",
    "    y_array = np.random.rand(n)\r\n",
    "    distance_array = np.hypot(x_array,y_array) #判定に使うX^2 + Y^2平方根\r\n",
    "    \r\n",
    "    for i in distance_array:\r\n",
    "        if i <= 1:\r\n",
    "            N_in += 1\r\n",
    "        else:\r\n",
    "            N_out += 1\r\n",
    "    pi = 4*N_in/n\r\n",
    "    \r\n",
    "    return pi\r\n"
   ],
   "outputs": [],
   "metadata": {}
  },
  {
   "cell_type": "code",
   "execution_count": 5,
   "source": [
    "n = 5*10**4\r\n",
    "pi_list = []\r\n",
    "for i in tqdm(range(500)):\r\n",
    "    pi_list.append(calc_pi(n))\r\n",
    "\r\n",
    "bar = np.var(pi_list)\r\n",
    "avg = np.average(pi_list)\r\n",
    "std = bar**0.5\r\n",
    "print(f\"pi_calc = {avg} +- {2*std} (95% ci)\")\r\n",
    "\r\n",
    "sns.histplot(pi_list, bins=30)\r\n",
    "plt.show()"
   ],
   "outputs": [
    {
     "output_type": "stream",
     "name": "stderr",
     "text": [
      "100%|██████████| 500/500 [00:18<00:00, 27.66it/s]\n"
     ]
    },
    {
     "output_type": "stream",
     "name": "stdout",
     "text": [
      "pi_calc = 3.1411969600000003 +- 0.015034358564089108 (95% ci)\n"
     ]
    },
    {
     "output_type": "display_data",
     "data": {
      "image/png": "[encoded data removed]",
      "text/plain": [
       "<Figure size 432x288 with 1 Axes>"
      ]
     },
     "metadata": {
      "needs_background": "light"
     }
    }
   ],
   "metadata": {}
  },
  {
   "cell_type": "code",
   "execution_count": null,
   "source": [],
   "outputs": [],
   "metadata": {}
  }
 ],
 "metadata": {
  "orig_nbformat": 4,
  "language_info": {
   "name": "python",
   "version": "3.9.5",
   "mimetype": "text/x-python",
   "codemirror_mode": {
    "name": "ipython",
    "version": 3
   },
   "pygments_lexer": "ipython3",
   "nbconvert_exporter": "python",
   "file_extension": ".py"
  },
  "kernelspec": {
   "name": "python3",
   "display_name": "Python 3.9.5 64-bit ('.venv': venv)"
  },
  "interpreter": {
   "hash": "22d6800457e8becf0533d67a79b9b9f077c1accc45293a5fe1f2856cb3866878"
  }
 },
 "nbformat": 4,
 "nbformat_minor": 2
}